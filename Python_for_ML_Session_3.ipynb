{
  "nbformat": 4,
  "nbformat_minor": 0,
  "metadata": {
    "colab": {
      "name": "Python_for_ML_Session_3.ipynb",
      "provenance": [],
      "collapsed_sections": [],
      "authorship_tag": "ABX9TyOisAezTOe8akSPA2IynPlA",
      "include_colab_link": true
    },
    "kernelspec": {
      "name": "python3",
      "display_name": "Python 3"
    },
    "language_info": {
      "name": "python"
    }
  },
  "cells": [
    {
      "cell_type": "markdown",
      "metadata": {
        "id": "view-in-github",
        "colab_type": "text"
      },
      "source": [
        "<a href=\"https://colab.research.google.com/github/tsikuzro/Machine_Learning/blob/main/Python_for_ML_Session_3.ipynb\" target=\"_parent\"><img src=\"https://colab.research.google.com/assets/colab-badge.svg\" alt=\"Open In Colab\"/></a>"
      ]
    },
    {
      "cell_type": "markdown",
      "source": [
        "**1. FOR LOOP: \"continue\"**"
      ],
      "metadata": {
        "id": "xbwEz5bLCFWD"
      }
    },
    {
      "cell_type": "code",
      "execution_count": 2,
      "metadata": {
        "colab": {
          "base_uri": "https://localhost:8080/"
        },
        "id": "hOFqen-lv1mE",
        "outputId": "7d6e83c2-e43b-4a83-a02d-7d477262d248"
      },
      "outputs": [
        {
          "output_type": "stream",
          "name": "stdout",
          "text": [
            "The sum of the squares from 5 to 100 is:  338320\n"
          ]
        }
      ],
      "source": [
        "#Calculate the sum of square of the number from 5 to 100\n",
        "s = 0\n",
        "for i in range(5,101):\n",
        "  s += i**2\n",
        "print('The sum of the squares from 5 to 100 is: ',s)"
      ]
    },
    {
      "cell_type": "code",
      "source": [
        "'''Calculate the sum of square of the number from 5 to 100\n",
        "   and don't include the number that are divisible by 7'''\n",
        "s = 0\n",
        "for i in range(5,101):\n",
        "  if i%7 != 0:\n",
        "    s += i**2\n",
        "  else:\n",
        "      s = s\n",
        "print('The sum of the squares from 5 to 100 is: ',s)"
      ],
      "metadata": {
        "colab": {
          "base_uri": "https://localhost:8080/"
        },
        "id": "hjyX9Ed5C2lQ",
        "outputId": "52af24f7-9d89-4824-cdf2-85d978f193d6"
      },
      "execution_count": 4,
      "outputs": [
        {
          "output_type": "stream",
          "name": "stdout",
          "text": [
            "The sum of the squares from 5 to 100 is:  288585\n"
          ]
        }
      ]
    },
    {
      "cell_type": "code",
      "source": [
        "'''Calculate the sum of square of the number from 5 to 100\n",
        "   and don't include the number that are divisible by 7'''\n",
        "s = 0\n",
        "for i in range(5,101):\n",
        "  if i%7 == 0: continue\n",
        "  s += i**2\n",
        "print('The sum of the squares from 5 to 100 is: ',s)"
      ],
      "metadata": {
        "colab": {
          "base_uri": "https://localhost:8080/"
        },
        "id": "MJKXwC2cDxuM",
        "outputId": "b491b243-da01-4559-c886-0243cec2272e"
      },
      "execution_count": 7,
      "outputs": [
        {
          "output_type": "stream",
          "name": "stdout",
          "text": [
            "The sum of the squares from 5 to 100 is:  288585\n"
          ]
        }
      ]
    },
    {
      "cell_type": "markdown",
      "source": [
        "**2. WHILE LOOP: \"break\" statement**"
      ],
      "metadata": {
        "id": "lgmQkSm3EqbS"
      }
    },
    {
      "cell_type": "code",
      "source": [
        "i = 1\n",
        "while True:           #run continuously\n",
        "  if i%7 == 0: break\n",
        "  print(i)\n",
        "  i +=1\n"
      ],
      "metadata": {
        "colab": {
          "base_uri": "https://localhost:8080/"
        },
        "id": "TJ2-cROzER4v",
        "outputId": "32703eb4-91c2-4a68-f738-1f3918c81a95"
      },
      "execution_count": 11,
      "outputs": [
        {
          "output_type": "stream",
          "name": "stdout",
          "text": [
            "1\n",
            "2\n",
            "3\n",
            "4\n",
            "5\n",
            "6\n"
          ]
        }
      ]
    },
    {
      "cell_type": "markdown",
      "source": [
        "**3. TRY & EXCEPT**"
      ],
      "metadata": {
        "id": "gxZxE-ooFrjG"
      }
    },
    {
      "cell_type": "code",
      "source": [
        "#Syntax:\n",
        "'''\n",
        "try:\n",
        "  statement_1\n",
        "except:\n",
        "  statement_2  ## do this statament_2 if statement_1 provides an error\n",
        "'''"
      ],
      "metadata": {
        "id": "rqp5p4FGFQ_y"
      },
      "execution_count": null,
      "outputs": []
    },
    {
      "cell_type": "code",
      "source": [
        "try:\n",
        "  s1 = 13/0\n",
        "except:\n",
        "  print('Undentified')"
      ],
      "metadata": {
        "colab": {
          "base_uri": "https://localhost:8080/"
        },
        "id": "4gPnOW5wGPVG",
        "outputId": "9ba5bae2-e22f-4be8-c97c-514183b40647"
      },
      "execution_count": 12,
      "outputs": [
        {
          "output_type": "stream",
          "name": "stdout",
          "text": [
            "Undentified\n"
          ]
        }
      ]
    },
    {
      "cell_type": "code",
      "source": [
        "#Avoid an error for the key not available in the dictionary\n",
        "Level_at_EAIFR = {'1': 'Masters', '2': 'PHD', '3': 'Post Doctorate'}\n",
        "try:\n",
        "  print(Level_at_EAIFR[5])\n",
        "except:\n",
        "  print('Sorry, there is no such key!')"
      ],
      "metadata": {
        "colab": {
          "base_uri": "https://localhost:8080/"
        },
        "id": "r5QEeyFLGjyO",
        "outputId": "6560f985-b979-4636-b230-0a3a435a8dd0"
      },
      "execution_count": 14,
      "outputs": [
        {
          "output_type": "stream",
          "name": "stdout",
          "text": [
            "Sorry, there is no such key!\n"
          ]
        }
      ]
    },
    {
      "cell_type": "markdown",
      "source": [
        "**4. FUNCTIONS & MODULES**"
      ],
      "metadata": {
        "id": "6sbM3CnbIK1l"
      }
    },
    {
      "cell_type": "code",
      "source": [
        "#Syntax:\n",
        "'''\n",
        "def name_of_function(variables_to_use)\n",
        "    statement\n",
        "    return (some_value)       ## Help to end the function\n",
        "'''"
      ],
      "metadata": {
        "id": "8oD-RaGFHweR"
      },
      "execution_count": null,
      "outputs": []
    },
    {
      "cell_type": "code",
      "source": [
        "#A function that can make any multiplication table:\n",
        "\n",
        "def Multiplication_table(x, n): #With x is number to make mult. table for and n is the number up to.\n",
        "    print('The multiplication table for ', x, ' up to ',n,'is: ')\n",
        "    for i in range(n):\n",
        "      p = x * i\n",
        "      print(x,' x ',i,' = ',p)\n",
        "\n",
        "Multiplication_table(3, 20)"
      ],
      "metadata": {
        "colab": {
          "base_uri": "https://localhost:8080/"
        },
        "id": "ZqpRi9jJI165",
        "outputId": "eb27b707-ffa7-4bc4-8f74-42c34a4515f9"
      },
      "execution_count": 21,
      "outputs": [
        {
          "output_type": "stream",
          "name": "stdout",
          "text": [
            "The multiplication table for  3  up to  20 is: \n",
            "3  x  0  =  0\n",
            "3  x  1  =  3\n",
            "3  x  2  =  6\n",
            "3  x  3  =  9\n",
            "3  x  4  =  12\n",
            "3  x  5  =  15\n",
            "3  x  6  =  18\n",
            "3  x  7  =  21\n",
            "3  x  8  =  24\n",
            "3  x  9  =  27\n",
            "3  x  10  =  30\n",
            "3  x  11  =  33\n",
            "3  x  12  =  36\n",
            "3  x  13  =  39\n",
            "3  x  14  =  42\n",
            "3  x  15  =  45\n",
            "3  x  16  =  48\n",
            "3  x  17  =  51\n",
            "3  x  18  =  54\n",
            "3  x  19  =  57\n"
          ]
        }
      ]
    },
    {
      "cell_type": "code",
      "source": [
        "Multiplication_table('I am a string!', 3)"
      ],
      "metadata": {
        "colab": {
          "base_uri": "https://localhost:8080/"
        },
        "id": "0l5N-fqANL9L",
        "outputId": "84470bd0-7916-4563-9a7c-9b9624545cdd"
      },
      "execution_count": 22,
      "outputs": [
        {
          "output_type": "stream",
          "name": "stdout",
          "text": [
            "The multiplication table for  I am a string!  up to  3 is: \n",
            "I am a string!  x  0  =  \n",
            "I am a string!  x  1  =  I am a string!\n",
            "I am a string!  x  2  =  I am a string!I am a string!\n"
          ]
        }
      ]
    },
    {
      "cell_type": "code",
      "source": [
        "#Print the triangle of stars\n",
        "def Triangular_shape(n_rows, choice): #Choose \"i\" for Isoscele triangle, \"l\" Left-sided Right triangle, \"r\" Right-sided Right triangle\n",
        "    if choice == 'i':\n",
        "      print('The Isoscele star triangular shape for ', n_rows,' rows is: ')\n",
        "      k = n_rows - 1\n",
        "      for i in range(n_rows):\n",
        "        for j in range(k):\n",
        "          print(end=\" \")\n",
        "        k = k - 1\n",
        "        for j in range(i+1):\n",
        "          print(\"* \", end=\"\")\n",
        "        print(\"\\r\")         \n",
        "    elif choice == 'l':\n",
        "      print('The Left-sided star triangular shape for ', n_rows,' rows is: ')\n",
        "      k = 2*n_rows-2\n",
        "      for i in range(n_rows):\n",
        "        for j in range(k):\n",
        "          print(end=\" \")\n",
        "        k = k - 2\n",
        "        for j in range(i+1):\n",
        "          print(\"* \", end=\"\")\n",
        "        print(\"\\r\")\n",
        "    elif choice == 'r':\n",
        "      print('The Right-sided star triangular shape for ', n_rows,' rows is: ')\n",
        "      for i in range(n_rows):\n",
        "        for j in range(i+1):\n",
        "          print(\"* \",end=\"\")\n",
        "        print(\"\\r\")\n",
        "    else:\n",
        "      print('Your choice for type of triangle is incorrect!')\n",
        "      print('Please Choose \"i\" for Isoscele, \"l\" Left-sided Right triangle, \"r\" Right-sided Right triangle!')"
      ],
      "metadata": {
        "id": "NUuPqGO-NvNU"
      },
      "execution_count": 51,
      "outputs": []
    },
    {
      "cell_type": "code",
      "source": [
        "Triangular_shape(5,'i')"
      ],
      "metadata": {
        "colab": {
          "base_uri": "https://localhost:8080/"
        },
        "id": "-lr8I9XNOBIo",
        "outputId": "d679ffcb-d89e-4657-f1a9-84dad40e975a"
      },
      "execution_count": 47,
      "outputs": [
        {
          "output_type": "stream",
          "name": "stdout",
          "text": [
            "The Isoscele star triangular shape for  5  rows is: \n",
            "    * \r\n",
            "   * * \r\n",
            "  * * * \r\n",
            " * * * * \r\n",
            "* * * * * \r\n"
          ]
        }
      ]
    },
    {
      "cell_type": "code",
      "source": [
        "Triangular_shape(5,'r')"
      ],
      "metadata": {
        "colab": {
          "base_uri": "https://localhost:8080/"
        },
        "id": "oobbblNhVBqR",
        "outputId": "857d73e7-d110-4ad4-fba7-e0ca0b06bdd4"
      },
      "execution_count": 48,
      "outputs": [
        {
          "output_type": "stream",
          "name": "stdout",
          "text": [
            "The Right-sided star triangular shape for  5  rows is: \n",
            "* \r\n",
            "* * \r\n",
            "* * * \r\n",
            "* * * * \r\n",
            "* * * * * \r\n"
          ]
        }
      ]
    },
    {
      "cell_type": "code",
      "source": [
        "Triangular_shape(5,'l')"
      ],
      "metadata": {
        "colab": {
          "base_uri": "https://localhost:8080/"
        },
        "id": "3GOZk3-4YDk-",
        "outputId": "616e6b51-07f0-4703-facd-d280ee10b78b"
      },
      "execution_count": 49,
      "outputs": [
        {
          "output_type": "stream",
          "name": "stdout",
          "text": [
            "The Left-sided star triangular shape for  5  rows is: \n",
            "        * \r\n",
            "      * * \r\n",
            "    * * * \r\n",
            "  * * * * \r\n",
            "* * * * * \r\n"
          ]
        }
      ]
    },
    {
      "cell_type": "code",
      "source": [
        "Triangular_shape(5,'s')"
      ],
      "metadata": {
        "colab": {
          "base_uri": "https://localhost:8080/"
        },
        "id": "9eTMBw4oYmWv",
        "outputId": "3e38ba8c-985a-4e5a-f756-7d1d2bc2c295"
      },
      "execution_count": 52,
      "outputs": [
        {
          "output_type": "stream",
          "name": "stdout",
          "text": [
            "Your choice for type of triangle is incorrect!\n",
            "Please Choose \"i\" for Isoscele, \"l\" Left-sided Right triangle, \"r\" Right-sided Right triangle!\n"
          ]
        }
      ]
    },
    {
      "cell_type": "markdown",
      "source": [
        "**5. WORKING WITH STRING**"
      ],
      "metadata": {
        "id": "m-rfVYW9csVq"
      }
    },
    {
      "cell_type": "code",
      "source": [
        "a = 'Hello There'\n",
        "\n",
        "#Lower case:\n",
        "b = a.lower()\n",
        "print(b)\n",
        "#Upper case\n",
        "c = a.upper()\n",
        "print(c)\n",
        "\n",
        "d = c.casefold()\n",
        "print(d)"
      ],
      "metadata": {
        "colab": {
          "base_uri": "https://localhost:8080/"
        },
        "id": "KcYK23OgZFQj",
        "outputId": "9022299e-c1aa-453d-81c0-dd3e4838083f"
      },
      "execution_count": 58,
      "outputs": [
        {
          "output_type": "stream",
          "name": "stdout",
          "text": [
            "hello there\n",
            "HELLO THERE\n",
            "hello there\n"
          ]
        }
      ]
    },
    {
      "cell_type": "markdown",
      "source": [
        "**6. Global & Local variables**"
      ],
      "metadata": {
        "id": "v_cmL-CYnUS_"
      }
    },
    {
      "cell_type": "code",
      "source": [
        "x = 2.0     #Global variable\n",
        "def rem(y):\n",
        "  z = 3     #Local variable\n",
        "  x = 37    #Local variable\n",
        "  w = (y*x)%z\n",
        "  print('this is w:', w)\n",
        "  return w\n",
        "print('this is global variable x: ',x)\n",
        "print(rem(4))"
      ],
      "metadata": {
        "colab": {
          "base_uri": "https://localhost:8080/"
        },
        "id": "2Scq30Lzlsn3",
        "outputId": "0fbf0daa-4464-4b31-99a1-b1a3908b5a2f"
      },
      "execution_count": 70,
      "outputs": [
        {
          "output_type": "stream",
          "name": "stdout",
          "text": [
            "this is global variable x:  2.0\n",
            "this is w: 1\n",
            "1\n"
          ]
        }
      ]
    },
    {
      "cell_type": "code",
      "source": [
        "rem(4)"
      ],
      "metadata": {
        "colab": {
          "base_uri": "https://localhost:8080/"
        },
        "id": "IBPAiU8SoSLm",
        "outputId": "08030a59-9f4d-4624-eca1-c8688d1dc20c"
      },
      "execution_count": 68,
      "outputs": [
        {
          "output_type": "stream",
          "name": "stdout",
          "text": [
            "this is w: 1\n"
          ]
        }
      ]
    },
    {
      "cell_type": "markdown",
      "source": [
        "**6. OPERATE UNKNOWN ARRAY NUMBERS**"
      ],
      "metadata": {
        "id": "PTt3RxAXuxdO"
      }
    },
    {
      "cell_type": "code",
      "source": [
        "#Program that can add number of array\n",
        "\n",
        "def addnumbers(*num):\n",
        "  sum = num[0]\n",
        "  for i in num:\n",
        "    sum += i\n",
        "  print(sum)\n",
        "addnumbers(1,2,3,4,5,6)\n",
        "array1 = [2,3,4.5,11,2,4,5]\n",
        "addnumbers(array1[0:4])"
      ],
      "metadata": {
        "colab": {
          "base_uri": "https://localhost:8080/"
        },
        "id": "MN1hrbOQpFIZ",
        "outputId": "9fac4d0d-5811-4d36-ae2b-aae3437f2534"
      },
      "execution_count": 75,
      "outputs": [
        {
          "output_type": "stream",
          "name": "stdout",
          "text": [
            "22\n",
            "[2, 3, 4.5, 11, 2, 3, 4.5, 11]\n"
          ]
        }
      ]
    },
    {
      "cell_type": "code",
      "source": [
        "#Work with dictionary as variable in function\n",
        "def groupage(**age):\n",
        "  for i, j in age.items():\n",
        "    print(i, j)\n",
        "groupage(Paul = 34, Aline = 22)"
      ],
      "metadata": {
        "colab": {
          "base_uri": "https://localhost:8080/"
        },
        "id": "alwlkPizrM7E",
        "outputId": "de3ef4db-5fd0-4ccc-b64d-77512254fa05"
      },
      "execution_count": 81,
      "outputs": [
        {
          "output_type": "stream",
          "name": "stdout",
          "text": [
            "Paul 34\n",
            "Aline 22\n"
          ]
        }
      ]
    }
  ]
}