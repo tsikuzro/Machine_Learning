{
  "nbformat": 4,
  "nbformat_minor": 0,
  "metadata": {
    "colab": {
      "name": "Python_for_ML_Session_1.ipynb",
      "provenance": [],
      "collapsed_sections": [],
      "authorship_tag": "ABX9TyN/zMXFtmXzBAP7R9/s86Uf",
      "include_colab_link": true
    },
    "kernelspec": {
      "name": "python3",
      "display_name": "Python 3"
    },
    "language_info": {
      "name": "python"
    }
  },
  "cells": [
    {
      "cell_type": "markdown",
      "metadata": {
        "id": "view-in-github",
        "colab_type": "text"
      },
      "source": [
        "<a href=\"https://colab.research.google.com/github/tsikuzro/Machine_Learning/blob/main/Python_for_ML_Session_1.ipynb\" target=\"_parent\"><img src=\"https://colab.research.google.com/assets/colab-badge.svg\" alt=\"Open In Colab\"/></a>"
      ]
    },
    {
      "cell_type": "markdown",
      "source": [
        "START OF MLESMD "
      ],
      "metadata": {
        "id": "PSi99Q15-mTV"
      }
    },
    {
      "cell_type": "code",
      "execution_count": 2,
      "metadata": {
        "colab": {
          "base_uri": "https://localhost:8080/",
          "height": 35
        },
        "id": "51kCa_6o9SVo",
        "outputId": "a5338f8d-1ea3-425e-bb8e-13364b4f019e"
      },
      "outputs": [
        {
          "output_type": "execute_result",
          "data": {
            "text/plain": [
              "'This is a comment too'"
            ],
            "application/vnd.google.colaboratory.intrinsic+json": {
              "type": "string"
            }
          },
          "metadata": {},
          "execution_count": 2
        }
      ],
      "source": [
        "#comment\n",
        "\"\"\"This is a comment too\"\"\""
      ]
    },
    {
      "cell_type": "code",
      "source": [
        "#assigning value to variable\n",
        "\n",
        "Strings = '29'\n",
        "Characters = \"kiki, kamana\",\"kamanzi\"\n",
        "floats = 20.33\n",
        "integer = 12\n",
        "\n",
        "print(Strings,'\\n', floats, '\\n', integer, '\\n', Characters)"
      ],
      "metadata": {
        "colab": {
          "base_uri": "https://localhost:8080/"
        },
        "id": "Z6VawOe7_WgF",
        "outputId": "33837332-5c16-41e2-ff1a-3023120935d5"
      },
      "execution_count": 3,
      "outputs": [
        {
          "output_type": "stream",
          "name": "stdout",
          "text": [
            "29 \n",
            " 20.33 \n",
            " 12 \n",
            " ('kiki, kamana', 'kamanzi')\n"
          ]
        }
      ]
    },
    {
      "cell_type": "code",
      "source": [
        "#Assigning values to variables\n",
        "x=12\n",
        "y=13\n",
        "x=y\n",
        "print(x-y-12)"
      ],
      "metadata": {
        "colab": {
          "base_uri": "https://localhost:8080/"
        },
        "id": "rVktKxxoC6LO",
        "outputId": "25be6e69-673c-4281-eecb-5c1f8d19ff4a"
      },
      "execution_count": 4,
      "outputs": [
        {
          "output_type": "stream",
          "name": "stdout",
          "text": [
            "-12\n"
          ]
        }
      ]
    },
    {
      "cell_type": "code",
      "source": [
        "#Operators\n",
        "z=100\n",
        "y=16\n",
        "'''+'''\n",
        "p=z+y\n",
        "'''-'''\n",
        "s=z-y\n",
        "'''*'''\n",
        "m=z*y\n",
        "'''/'''\n",
        "d=z/y\n",
        "'''//'''\n",
        "r=z//y\n",
        "'''%'''\n",
        "rem=z%y\n",
        "print(\"Addition:\",p,'\\n',\"Substraction:\",s,'\\n',\n",
        "      \"Multiplication:\",m,'\\n',\"Division:\",d,'\\n', \n",
        "      \"Remaider:\",rem,'\\n',\"Round down:\",r,'\\n')"
      ],
      "metadata": {
        "colab": {
          "base_uri": "https://localhost:8080/"
        },
        "id": "hT69vKRLEVj9",
        "outputId": "9c487d31-8450-4694-8891-a8941696eba4"
      },
      "execution_count": 6,
      "outputs": [
        {
          "output_type": "stream",
          "name": "stdout",
          "text": [
            "Addition: 116 \n",
            " Substraction: 84 \n",
            " Multiplication: 1600 \n",
            " Division: 6.25 \n",
            " Remaider: 4 \n",
            " Round down: 6 \n",
            "\n"
          ]
        }
      ]
    },
    {
      "cell_type": "code",
      "source": [
        "#Assigning operators\n",
        "w=22\n",
        "x +=1\n",
        "y-=2\n",
        "z*=3\n",
        "w /=4\n",
        "print(\"Addition Assigned:\",'\\t',x,'\\n',\"Substraction assigned:\",y,'\\n',\n",
        "      \"Multiplication assigned:\",z,'\\n',\"Division assigned:\",w)"
      ],
      "metadata": {
        "id": "QFOtlBAaE_Kk",
        "colab": {
          "base_uri": "https://localhost:8080/"
        },
        "outputId": "8ad2b370-0684-4a15-db9a-7048918f8edb"
      },
      "execution_count": 14,
      "outputs": [
        {
          "output_type": "stream",
          "name": "stdout",
          "text": [
            "Addition Assigned: \t 37 \n",
            " Substraction assigned: 4 \n",
            " Multiplication assigned: 72900 \n",
            " Division assigned: 5.5\n"
          ]
        }
      ]
    },
    {
      "cell_type": "code",
      "source": [
        "#Concantenate string\n",
        "\n",
        "N = 'My name is'\n",
        "O = 'Tsikuzro'\n",
        "print(N+' ',O)"
      ],
      "metadata": {
        "colab": {
          "base_uri": "https://localhost:8080/"
        },
        "id": "cIcchVvJcdiY",
        "outputId": "754fd9a6-cddf-44cc-af9f-a3be595bdd31"
      },
      "execution_count": 15,
      "outputs": [
        {
          "output_type": "stream",
          "name": "stdout",
          "text": [
            "My name is  Tsikuzro\n"
          ]
        }
      ]
    },
    {
      "cell_type": "code",
      "source": [
        "#Convert and Add number quoted to be sting together\n",
        "'''using int()'''\n",
        "myage = '32'\n",
        "myagein2027 = int(myage) + (2027-2022)\n",
        "print(myagein2027)"
      ],
      "metadata": {
        "colab": {
          "base_uri": "https://localhost:8080/"
        },
        "id": "whLQQViEewak",
        "outputId": "6ea9507b-19e5-4b8e-ed1f-d216212f1c78"
      },
      "execution_count": 19,
      "outputs": [
        {
          "output_type": "stream",
          "name": "stdout",
          "text": [
            "37\n"
          ]
        }
      ]
    },
    {
      "cell_type": "code",
      "source": [
        "#Convert and Add number quoted to be sting together\n",
        "'''using float()'''\n",
        "salesthisyear = '3200.50'\n",
        "salesincreaseperyear= '200.872'\n",
        "salesin2025 = float(salesperyear) + float(salesincreaseperyear)*(2025-2022)\n",
        "print(salesin2025)"
      ],
      "metadata": {
        "colab": {
          "base_uri": "https://localhost:8080/"
        },
        "id": "7gcPQs0_f4ms",
        "outputId": "3808d44e-218f-4c69-82d4-4176e976beaf"
      },
      "execution_count": 26,
      "outputs": [
        {
          "output_type": "stream",
          "name": "stdout",
          "text": [
            "3803.116\n"
          ]
        }
      ]
    },
    {
      "cell_type": "markdown",
      "source": [
        "```\n",
        "Writting the greek letter\n",
        "SYNTHAX: $\\name of greek letter or formula$\n",
        "```"
      ],
      "metadata": {
        "id": "CLk3ByuQuGSS"
      }
    },
    {
      "cell_type": "markdown",
      "source": [
        "$\\alpha$ $\\beta$ $\\gamma$ $\\ E=mc^2$ $\\zeta$ $\\eta$ $\\nu$ $\\mu$\n"
      ],
      "metadata": {
        "id": "XY4UmQYivhdU"
      }
    },
    {
      "cell_type": "markdown",
      "source": [
        "**ARRAY REPRESENTATION**\n",
        "---\n",
        "**1. LIST**"
      ],
      "metadata": {
        "id": "4z-jMiCUyn85"
      }
    },
    {
      "cell_type": "code",
      "source": [
        "#Assign value to List\n",
        "'''Sythax: name_of_list = [elements]'''\n",
        "classscores = [12, 23, 13, 11, 49]\n",
        "emptylist = []\n",
        "print(classscores)\n",
        "print('This is empty list:', emptylist)"
      ],
      "metadata": {
        "colab": {
          "base_uri": "https://localhost:8080/"
        },
        "id": "0F7erTXAuQRb",
        "outputId": "3f53f0de-8758-4110-b7b9-6f34ca6e0c4e"
      },
      "execution_count": 30,
      "outputs": [
        {
          "output_type": "stream",
          "name": "stdout",
          "text": [
            "[12, 23, 13, 11, 49]\n",
            "This is empty list: []\n"
          ]
        }
      ]
    },
    {
      "cell_type": "code",
      "source": [
        "#access single entry in a list using place value\n",
        "'''Synthax\n",
        "   name_of_list[place_value]\n",
        "   , where place value count starting from  0'''\n",
        "print('The fourth score is: ', classscores[3])\n",
        "print('Last score is: ', classscores[-1]) #This print element from the last [-1]"
      ],
      "metadata": {
        "colab": {
          "base_uri": "https://localhost:8080/"
        },
        "id": "aiqg4gOqxsYT",
        "outputId": "87cadee1-08f7-4595-ecb1-6ea3f10ebac4"
      },
      "execution_count": 33,
      "outputs": [
        {
          "output_type": "stream",
          "name": "stdout",
          "text": [
            "The fourth score is:  11\n",
            "Last score is:  49\n"
          ]
        }
      ]
    },
    {
      "cell_type": "code",
      "source": [
        "#Perform operation on list elements\n",
        "Diff = classscores[2] - classscores[0]\n",
        "Add = classscores[2] + classscores[0]\n",
        "\n",
        "print('Difference btn random 2 classscores:', Diff)\n",
        "print('Addition btn random 2 classscores:', Add)"
      ],
      "metadata": {
        "colab": {
          "base_uri": "https://localhost:8080/"
        },
        "id": "fb9y9kYVyJri",
        "outputId": "23a49473-d4d8-49f8-e1af-220c2b43eab8"
      },
      "execution_count": 31,
      "outputs": [
        {
          "output_type": "stream",
          "name": "stdout",
          "text": [
            "Difference btn random 2 classscores: 1\n",
            "Addition btn random 2 classscores: 25\n"
          ]
        }
      ]
    },
    {
      "cell_type": "code",
      "source": [
        "#Change the value of single element\n",
        "classscores[1]= 34\n",
        "print('Modified classscores are:', classscores)"
      ],
      "metadata": {
        "colab": {
          "base_uri": "https://localhost:8080/"
        },
        "id": "EFfJDn000UyC",
        "outputId": "c022605c-0d92-47b0-dbbb-595cbf5b2025"
      },
      "execution_count": 37,
      "outputs": [
        {
          "output_type": "stream",
          "name": "stdout",
          "text": [
            "Modified classscores are: [12, 34, 13, 11, 49]\n"
          ]
        }
      ]
    },
    {
      "cell_type": "code",
      "source": [
        "#Pick some elements in the list\n",
        "top = [classscores[-1], classscores[1]]\n",
        "print('Top 2 students are:', top)"
      ],
      "metadata": {
        "colab": {
          "base_uri": "https://localhost:8080/"
        },
        "id": "i9XkBRCS1dMU",
        "outputId": "6cdecd88-3b09-41f5-ebd0-ca2a8e2b55a1"
      },
      "execution_count": 38,
      "outputs": [
        {
          "output_type": "stream",
          "name": "stdout",
          "text": [
            "Top 2 students are: [49, 34]\n"
          ]
        }
      ]
    },
    {
      "cell_type": "code",
      "source": [
        "#Pick some range of elements in the list\n",
        "'''Synthax: name_of_list[a:b]\n",
        "    where it display the list from a to b excluding b'th element\n",
        "    or name_of_list[a:b:stepsize]'''\n",
        "\n",
        "F1t3 = classscores[1:4] #This one print a range of list elements excluding the last\n",
        "F1t3st2 = classscores[1:5:2]\n",
        "print('Top 2 students are:', F1t3)\n",
        "print('Top 2 students are:', F1t3st2)"
      ],
      "metadata": {
        "colab": {
          "base_uri": "https://localhost:8080/"
        },
        "id": "KgAQNAOK2kyB",
        "outputId": "686508b1-ba46-4933-af14-855a75549d3e"
      },
      "execution_count": 41,
      "outputs": [
        {
          "output_type": "stream",
          "name": "stdout",
          "text": [
            "Top 2 students are: [34, 13, 11]\n",
            "Top 2 students are: [34, 11]\n"
          ]
        }
      ]
    },
    {
      "cell_type": "code",
      "source": [
        "#You can include elements which are not the same data type\n",
        "randomlist = [1, 1.23, 'Hello', 'There', 21, 'a', 'b', [1,2,3,4]]\n",
        "print(randomlist[1:7:2])\n",
        "print(randomlist[5:8])"
      ],
      "metadata": {
        "colab": {
          "base_uri": "https://localhost:8080/"
        },
        "id": "0sbJlnMP3FQC",
        "outputId": "72def37e-d50e-4d29-f790-66bc36db0f62"
      },
      "execution_count": 48,
      "outputs": [
        {
          "output_type": "stream",
          "name": "stdout",
          "text": [
            "[1.23, 'There', 'a']\n",
            "['a', 'b', [1, 2, 3, 4]]\n"
          ]
        }
      ]
    },
    {
      "cell_type": "code",
      "source": [
        "#Append some elements in the list\n",
        "randomlist.append([22,11,44])\n",
        "print('Apended elements are 22,11 and 44:',randomlist)"
      ],
      "metadata": {
        "colab": {
          "base_uri": "https://localhost:8080/"
        },
        "id": "94KTR24b9bMU",
        "outputId": "105881a8-dd7d-4085-a024-4c0d5bb3385e"
      },
      "execution_count": 52,
      "outputs": [
        {
          "output_type": "stream",
          "name": "stdout",
          "text": [
            "Apended elements are 22,11 and 44: [1, 1.23, 'Hello', 'There', 21, 'a', 'b', [1, 2, 3, 4], [22, 11, 44], [22, 11, 44]]\n"
          ]
        }
      ]
    },
    {
      "cell_type": "code",
      "source": [
        "#Delete any element in a list\n",
        "del randomlist[0]\n",
        "print(randomlist)"
      ],
      "metadata": {
        "colab": {
          "base_uri": "https://localhost:8080/"
        },
        "id": "rPrfjloL-jRo",
        "outputId": "59e323b7-fb79-43a6-af0f-5c92fe9c3dd7"
      },
      "execution_count": 55,
      "outputs": [
        {
          "output_type": "stream",
          "name": "stdout",
          "text": [
            "['There', 21, 'a', 'b', [1, 2, 3, 4], [22, 11, 44], [22, 11, 44]]\n"
          ]
        }
      ]
    },
    {
      "cell_type": "markdown",
      "source": [
        "**2. TUPLE**"
      ],
      "metadata": {
        "id": "aLelOigpAR4Z"
      }
    },
    {
      "cell_type": "code",
      "source": [
        "#Introduce tuples\n",
        "'''Synthax: name_of_tuple = (elements)'''\n",
        "week = ('Monday', 'Tuesday', 'Wednesday', 'Thursday', 'Friday', 'Saturday', 'Sunday')\n",
        "print(week)"
      ],
      "metadata": {
        "colab": {
          "base_uri": "https://localhost:8080/"
        },
        "id": "zoZnLjPYAbGw",
        "outputId": "c26322a6-fd5c-4dc9-abaa-6800c7260a48"
      },
      "execution_count": 56,
      "outputs": [
        {
          "output_type": "stream",
          "name": "stdout",
          "text": [
            "('Monday', 'Tuesday', 'Wednesday', 'Thursday', 'Friday', 'Saturday', 'Sunday')\n"
          ]
        }
      ]
    },
    {
      "cell_type": "code",
      "source": [
        "#Pick any radom elements\n",
        "a = week[3]\n",
        "b = week[1:3]\n",
        "c = week[1:6:2]\n",
        "print(a,'\\n',b,'\\n',c)"
      ],
      "metadata": {
        "colab": {
          "base_uri": "https://localhost:8080/"
        },
        "id": "_E1YjVydA95z",
        "outputId": "7ef57861-e04d-4a66-91d0-2e55770aa7ae"
      },
      "execution_count": 60,
      "outputs": [
        {
          "output_type": "stream",
          "name": "stdout",
          "text": [
            "Thursday \n",
            " ('Tuesday', 'Wednesday') \n",
            " ('Tuesday', 'Thursday', 'Saturday')\n"
          ]
        }
      ]
    },
    {
      "cell_type": "markdown",
      "source": [
        " **3. DICTIONARY**"
      ],
      "metadata": {
        "id": "ZsffjhE8Bznt"
      }
    },
    {
      "cell_type": "code",
      "source": [
        "#Introduce Dictionary\n",
        "'''Synthax: name_of_dictionary = {\"Key_name\": value, ...}'''\n",
        "districtinrwanda = {'Kigali City': 5, 'North': 5, 'South': 8, 'East': 7, 'West': 7}\n",
        "print(districtinrwanda)"
      ],
      "metadata": {
        "colab": {
          "base_uri": "https://localhost:8080/"
        },
        "id": "q8m5RgHyB84A",
        "outputId": "8214ac99-75fa-4215-b3b1-99a18e523222"
      },
      "execution_count": 62,
      "outputs": [
        {
          "output_type": "stream",
          "name": "stdout",
          "text": [
            "{'Kigali City': 5, 'North': 5, 'South': 8, 'East': 7, 'West': 7}\n"
          ]
        }
      ]
    },
    {
      "cell_type": "code",
      "source": [
        "#Pick some elements\n",
        "print(districtinrwanda['South'])"
      ],
      "metadata": {
        "colab": {
          "base_uri": "https://localhost:8080/"
        },
        "id": "3c-1tJHLDqhT",
        "outputId": "48134673-6177-47fa-cfd5-843753e1eb29"
      },
      "execution_count": 64,
      "outputs": [
        {
          "output_type": "stream",
          "name": "stdout",
          "text": [
            "8\n"
          ]
        }
      ]
    },
    {
      "cell_type": "code",
      "source": [
        "#Key does not need to be sting\n",
        "\n",
        "example = {1: 'Name', 2: 'Surname', 3: 'Job', 4: 'Nationality'}\n",
        "print(example[2])"
      ],
      "metadata": {
        "colab": {
          "base_uri": "https://localhost:8080/"
        },
        "id": "dVtBZA3ID9TC",
        "outputId": "30b34103-c13a-48d1-af96-62bd2e927982"
      },
      "execution_count": 65,
      "outputs": [
        {
          "output_type": "stream",
          "name": "stdout",
          "text": [
            "Surname\n"
          ]
        }
      ]
    },
    {
      "cell_type": "code",
      "source": [
        "#Delete any element in Dictionary\n",
        "del example[2]\n",
        "example[2] = 'Age'\n",
        "print(example)"
      ],
      "metadata": {
        "colab": {
          "base_uri": "https://localhost:8080/"
        },
        "id": "_0q1QXIVEjis",
        "outputId": "3edbf295-8a37-4190-e873-367c1d4a0638"
      },
      "execution_count": 67,
      "outputs": [
        {
          "output_type": "stream",
          "name": "stdout",
          "text": [
            "{1: 'Name', 3: 'Job', 4: 'Nationality', 2: 'Age'}\n"
          ]
        }
      ]
    },
    {
      "cell_type": "code",
      "source": [
        ""
      ],
      "metadata": {
        "id": "jth6_9WcFM6K"
      },
      "execution_count": null,
      "outputs": []
    }
  ]
}