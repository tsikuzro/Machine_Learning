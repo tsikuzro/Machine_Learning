{
  "nbformat": 4,
  "nbformat_minor": 0,
  "metadata": {
    "colab": {
      "name": "Python_for_ML_Session_2.ipynb",
      "provenance": [],
      "collapsed_sections": [],
      "authorship_tag": "ABX9TyPapz04SdZid4hXGqy0Hrgn",
      "include_colab_link": true
    },
    "kernelspec": {
      "name": "python3",
      "display_name": "Python 3"
    },
    "language_info": {
      "name": "python"
    }
  },
  "cells": [
    {
      "cell_type": "markdown",
      "metadata": {
        "id": "view-in-github",
        "colab_type": "text"
      },
      "source": [
        "<a href=\"https://colab.research.google.com/github/tsikuzro/Machine_Learning/blob/main/Python_for_ML_Session_2.ipynb\" target=\"_parent\"><img src=\"https://colab.research.google.com/assets/colab-badge.svg\" alt=\"Open In Colab\"/></a>"
      ]
    },
    {
      "cell_type": "code",
      "execution_count": null,
      "metadata": {
        "colab": {
          "base_uri": "https://localhost:8080/"
        },
        "id": "SPrW8ww4mtZ2",
        "outputId": "b96b7233-b689-4f22-f3da-3d40c442b7e9"
      },
      "outputs": [
        {
          "output_type": "stream",
          "name": "stdout",
          "text": [
            "<class 'float'>\n",
            "<class 'dict'>\n",
            "<class 'list'>\n"
          ]
        }
      ],
      "source": [
        "#Type of a variable\n",
        "\n",
        "a = 3.4\n",
        "b = {}\n",
        "c = []\n",
        "print(type(a))\n",
        "print(type(b))\n",
        "print(type(c))"
      ]
    },
    {
      "cell_type": "markdown",
      "source": [
        "**1. INPUT()**"
      ],
      "metadata": {
        "id": "n04o4Yj1pw--"
      }
    },
    {
      "cell_type": "code",
      "source": [
        "#Write a program that asks my age and return the number of months and\n",
        "#the months remains to turn 30 years old or months past to 30 years old \n",
        "\n",
        "myage =  int(input('Please enter your ages right here: '))\n",
        "nbr_of_Months = myage*12\n",
        "print('My ages are: ', myage, 'Years Old')\n",
        "print(myage, 'years contains ', nbr_of_Months, 'Months')\n",
        "ages_to_turn = int(input('Please enter the ages to turn to count month for: '))\n",
        "months_to_ages = (ages_to_turn - myage)*12\n",
        "print('The months to ', ages_to_turn,' are:', months_to_ages,' Months')"
      ],
      "metadata": {
        "colab": {
          "base_uri": "https://localhost:8080/"
        },
        "id": "3vL-rXn8pXNX",
        "outputId": "0333d92a-5ff9-4758-a2da-eb79f4a74db4"
      },
      "execution_count": null,
      "outputs": [
        {
          "output_type": "stream",
          "name": "stdout",
          "text": [
            "Please enter your ages right here: 34\n",
            "My ages are:  34 Years Old\n",
            "34 years contains  408 Months\n",
            "Please enter the ages to turn to count month for: 30\n",
            "The months to  30  are: -48  Months\n"
          ]
        }
      ]
    },
    {
      "cell_type": "markdown",
      "source": [
        "**2.COMPARISON OPERATORS**"
      ],
      "metadata": {
        "id": "ktFT2Mu6_gnE"
      }
    },
    {
      "cell_type": "code",
      "source": [
        "#Comparison operators\n",
        "'''==(equality)'''\n",
        "print(2==3)\n",
        "print(3==3)\n",
        "print('-----------------')\n",
        "'''!=(not equal)'''\n",
        "print(2!=3)\n",
        "print(3!=3)\n",
        "print('-----------------')\n",
        "'''<(Less than)'''\n",
        "print(2<3)\n",
        "print(3<3)\n",
        "print('-----------------')\n",
        "'''<=(Less than or equal)'''\n",
        "print(23<=3)\n",
        "print(3<=3)\n",
        "print('-----------------')\n",
        "'''>=(Greater than)'''\n",
        "print(2>3)\n",
        "print(3>3)\n",
        "print('-----------------')\n",
        "'''>=(Greater than or equal)'''\n",
        "print(2>=3)\n",
        "print(3>=3)\n",
        "print('-----------------')"
      ],
      "metadata": {
        "colab": {
          "base_uri": "https://localhost:8080/"
        },
        "id": "ztCacwIt_rGU",
        "outputId": "1af10a37-9d42-481f-e951-64654aaa9415"
      },
      "execution_count": null,
      "outputs": [
        {
          "output_type": "stream",
          "name": "stdout",
          "text": [
            "False\n",
            "True\n",
            "-----------------\n",
            "True\n",
            "False\n",
            "-----------------\n",
            "True\n",
            "False\n",
            "-----------------\n",
            "False\n",
            "True\n",
            "-----------------\n",
            "False\n",
            "False\n",
            "-----------------\n",
            "False\n",
            "True\n",
            "-----------------\n"
          ]
        }
      ]
    },
    {
      "cell_type": "code",
      "source": [
        "a, b, c = 12, 45, 10\n",
        "\n",
        "print(a!=c)\n",
        "print(b<=c)"
      ],
      "metadata": {
        "colab": {
          "base_uri": "https://localhost:8080/"
        },
        "id": "7M-rPOEMAdsH",
        "outputId": "aa060d33-f6d4-4a80-d1ed-32e94b7ed552"
      },
      "execution_count": null,
      "outputs": [
        {
          "output_type": "stream",
          "name": "stdout",
          "text": [
            "True\n",
            "False\n"
          ]
        }
      ]
    },
    {
      "cell_type": "markdown",
      "source": [
        "**3. IF CONDITION**"
      ],
      "metadata": {
        "id": "DFdX_wYsDeuM"
      }
    },
    {
      "cell_type": "code",
      "source": [
        "#Syntax\n",
        "'''\n",
        "if condition1:\n",
        "     1st_statement1\n",
        "elif condition2:\n",
        "     2nd_statement2\n",
        "     .\n",
        "     .\n",
        "     .\n",
        " else:\n",
        "     nth_statement'''"
      ],
      "metadata": {
        "id": "1wIT-egiAe83"
      },
      "execution_count": null,
      "outputs": []
    },
    {
      "cell_type": "code",
      "source": [
        "#Print your name if you are older than 20 years old\n",
        "age = int(input('Enter your age please: '))\n",
        "if age > 20:\n",
        "  your_name = str(input('What is your name?'))\n",
        "  print(your_name,' You are older than 20 years old now!')\n",
        "elif age == 20:\n",
        "    gender = str(input('Girl or Boy?'))\n",
        "    print('You are about to enter in another phase of life ',gender,'!')\n",
        "else:\n",
        "    print('You are a teenagers!')\n"
      ],
      "metadata": {
        "colab": {
          "base_uri": "https://localhost:8080/"
        },
        "id": "TCeBUR9kBAti",
        "outputId": "3f583715-102b-4618-e863-66b9e7a5eeba"
      },
      "execution_count": null,
      "outputs": [
        {
          "output_type": "stream",
          "name": "stdout",
          "text": [
            "Enter your age please: 23\n",
            "What is your name?Jacob\n",
            "Jacob  You are older than 20 years old!\n"
          ]
        }
      ]
    },
    {
      "cell_type": "code",
      "source": [
        "#Inline if condition\n",
        "fav = str(input('Choose d for Drake, or any other letter for Wiz Khalifa: '))\n",
        "print('Your Favorite Rapper is Drake' if fav=='d' else 'Your Favorite Rapper is Wiz Khalifa')"
      ],
      "metadata": {
        "colab": {
          "base_uri": "https://localhost:8080/"
        },
        "id": "hEfmIdjBBIMU",
        "outputId": "d390b83d-3087-43b6-8e52-becf8fe20cba"
      },
      "execution_count": null,
      "outputs": [
        {
          "output_type": "stream",
          "name": "stdout",
          "text": [
            "Choose d for Drake, or any other letter for Wiz Khalifa: d\n",
            "Your Favorite Rapper is Drake\n"
          ]
        }
      ]
    },
    {
      "cell_type": "markdown",
      "source": [
        "**4. FOR LOOP**"
      ],
      "metadata": {
        "id": "7l3CBFXgKxSG"
      }
    },
    {
      "cell_type": "code",
      "source": [
        "#Syntax\n",
        "#1. \n",
        "'''\n",
        "for [item] in [sequence]:\n",
        "\t  Run code\n",
        "'''\n",
        "#item: tracks the individual item each iteration is viewing.\n",
        "#in: separates the item from the sequence.\n",
        "#sequence: refers to the object over which you want to iterate.\n",
        "#The code that is within our for loop will run until every item in our sequence has been read by our program.\n",
        "\n",
        "#2. using range() or len()\n",
        "'''\n",
        "for [item] in range or len(nbr_of_times_to_run_loop):\n",
        "\tprint(item)\n",
        "'''\n",
        "#You can use range() or len() to specify how many times a loop should iterate. \n",
        "#with len() lets us create a list with a length equal to the number of values in an object.\n",
        "#with range() loop iterate up to n_th_times (n times)\n",
        "\n",
        "#3. Nested loop\n",
        "'''\n",
        "for [outer_item] in [outer_sequence]:\n",
        "\tfor [inner_item] in [inner_sequence]:\n",
        "\t\t// Run code\n",
        "'''"
      ],
      "metadata": {
        "id": "CqITkGwhBOpA"
      },
      "execution_count": null,
      "outputs": []
    },
    {
      "cell_type": "code",
      "source": [
        "domestic_animals = ['dog', 'cats', 'chicken', 'pig', 'cow']\n",
        "print('Some of the domestic animals are:  \\n')\n",
        "for i in domestic_animals:\n",
        "  print(i)"
      ],
      "metadata": {
        "colab": {
          "base_uri": "https://localhost:8080/"
        },
        "id": "KzlutlAdPk8z",
        "outputId": "4f7d129b-7674-4fb9-a98f-e84b3ff3c715"
      },
      "execution_count": null,
      "outputs": [
        {
          "output_type": "stream",
          "name": "stdout",
          "text": [
            "Some of the domestic animals are:  \n",
            "\n",
            "dog\n",
            "cats\n",
            "chicken\n",
            "pig\n",
            "cow\n"
          ]
        }
      ]
    },
    {
      "cell_type": "code",
      "source": [
        "#If you want to know the index with their elements\n",
        "for i, j in enumerate (domestic_animals):\n",
        "  print(i, j)"
      ],
      "metadata": {
        "colab": {
          "base_uri": "https://localhost:8080/"
        },
        "id": "NkQKtvegQokU",
        "outputId": "32d4528d-716c-400a-8667-3a7640854f8f"
      },
      "execution_count": null,
      "outputs": [
        {
          "output_type": "stream",
          "name": "stdout",
          "text": [
            "0 dog\n",
            "1 cats\n",
            "2 chicken\n",
            "3 pig\n",
            "4 cow\n"
          ]
        }
      ]
    },
    {
      "cell_type": "code",
      "source": [
        "for i in domestic_animals:\n",
        "      n.append(i)\n",
        "print(n)"
      ],
      "metadata": {
        "colab": {
          "base_uri": "https://localhost:8080/"
        },
        "id": "z7EypwqXRbDA",
        "outputId": "3cb1eed2-08be-4e2c-956c-236a6c9c4f54"
      },
      "execution_count": null,
      "outputs": [
        {
          "output_type": "stream",
          "name": "stdout",
          "text": [
            "[0, 'dog', 1, 'cats', 2, 'chicken', 3, 'pig', 4, 'cow', 0, 'dog', 1, 'cats', 2, 'chicken', 3, 'pig', 4, 'cow', 0, 'dog', 1, 'cats', 2, 'chicken', 3, 'pig', 4, 'cow', 'dog', 'cats', 'chicken', 'pig', 'cow', 'dog', 'cats', 'chicken', 'pig', 'cow']\n"
          ]
        }
      ]
    },
    {
      "cell_type": "code",
      "source": [
        "nameage = {'Paul':37, 'Jean':27, 'Polo':(67, 68, 69)}\n",
        "for i in nameage:\n",
        "  print(i, nameage[i])"
      ],
      "metadata": {
        "colab": {
          "base_uri": "https://localhost:8080/"
        },
        "id": "leFj0S_GThyz",
        "outputId": "008a3356-267b-44ad-8033-1d45a00f1eb6"
      },
      "execution_count": null,
      "outputs": [
        {
          "output_type": "stream",
          "name": "stdout",
          "text": [
            "Paul 37\n",
            "Jean 27\n",
            "Polo (67, 68, 69)\n"
          ]
        }
      ]
    },
    {
      "cell_type": "code",
      "source": [
        "nameage = {'Paul':37, 'Jean':27, 'Polo':(67, 68, 69)}\n",
        "for i, j in nameage.items():\n",
        "    print(i, j)"
      ],
      "metadata": {
        "colab": {
          "base_uri": "https://localhost:8080/"
        },
        "id": "JNH1XoN6UY9s",
        "outputId": "3afa1293-afce-4d4c-d3d0-e5b999595801"
      },
      "execution_count": null,
      "outputs": [
        {
          "output_type": "stream",
          "name": "stdout",
          "text": [
            "Paul 37\n",
            "Jean 27\n",
            "Polo (67, 68, 69)\n"
          ]
        }
      ]
    },
    {
      "cell_type": "code",
      "source": [
        "#Print a sequence of numbers\n",
        "for i in range(10):\n",
        "  print(i)"
      ],
      "metadata": {
        "colab": {
          "base_uri": "https://localhost:8080/"
        },
        "id": "EGaNlwiNaNOc",
        "outputId": "349594fc-2925-4681-c1d6-bc3fe4e5539d"
      },
      "execution_count": null,
      "outputs": [
        {
          "output_type": "stream",
          "name": "stdout",
          "text": [
            "0\n",
            "1\n",
            "2\n",
            "3\n",
            "4\n",
            "5\n",
            "6\n",
            "7\n",
            "8\n",
            "9\n"
          ]
        }
      ]
    },
    {
      "cell_type": "code",
      "source": [
        "# range(a,b,c) pick i starting from a to b in steps of c\n",
        "for i in range(2,20,4):\n",
        "  print(i)"
      ],
      "metadata": {
        "colab": {
          "base_uri": "https://localhost:8080/"
        },
        "id": "kJr19qG2axZL",
        "outputId": "390bfb56-4974-46b6-8b76-fa867936da4b"
      },
      "execution_count": null,
      "outputs": [
        {
          "output_type": "stream",
          "name": "stdout",
          "text": [
            "2\n",
            "6\n",
            "10\n",
            "14\n",
            "18\n"
          ]
        }
      ]
    },
    {
      "cell_type": "code",
      "source": [
        "for i in range(5):\n",
        "  for j in range(i+1):\n",
        "    print(\"* \",end=\"\")\n",
        "  print(\"\\r\")      # ending line after each row"
      ],
      "metadata": {
        "colab": {
          "base_uri": "https://localhost:8080/"
        },
        "id": "Qjz01bFMc1Ch",
        "outputId": "0118090e-1c4f-4149-e4d6-2f1b4e30ed2d"
      },
      "execution_count": null,
      "outputs": [
        {
          "output_type": "stream",
          "name": "stdout",
          "text": [
            "* \r\n",
            "* * \r\n",
            "* * * \r\n",
            "* * * * \r\n",
            "* * * * * \r\n"
          ]
        }
      ]
    },
    {
      "cell_type": "code",
      "source": [
        "k = 10\n",
        "for i in range(5):\n",
        "  for j in range(k):\n",
        "    print(end=\" \")\n",
        "  k = k - 2\n",
        "  for j in range(i+1):\n",
        "    print(\"* \", end=\"\")\n",
        "  print(\"\\r\")"
      ],
      "metadata": {
        "colab": {
          "base_uri": "https://localhost:8080/"
        },
        "id": "9WD1ZZsLf6aP",
        "outputId": "15bd6b45-9a41-40f0-d260-a929a83ce0d0"
      },
      "execution_count": null,
      "outputs": [
        {
          "output_type": "stream",
          "name": "stdout",
          "text": [
            "          * \r\n",
            "        * * \r\n",
            "      * * * \r\n",
            "    * * * * \r\n",
            "  * * * * * \r\n"
          ]
        }
      ]
    },
    {
      "cell_type": "code",
      "source": [
        "k = 4\n",
        "for i in range(5):\n",
        "  for j in range(k):\n",
        "    print(end=\" \")\n",
        "  k = k - 1\n",
        "  for j in range(i+1):\n",
        "    print(\"* \", end=\"\")\n",
        "  print(\"\\r\")"
      ],
      "metadata": {
        "colab": {
          "base_uri": "https://localhost:8080/"
        },
        "id": "6dwTjHohi4_m",
        "outputId": "75d5ad5e-d8a3-40b8-e136-324328e09c50"
      },
      "execution_count": null,
      "outputs": [
        {
          "output_type": "stream",
          "name": "stdout",
          "text": [
            "    * \r\n",
            "   * * \r\n",
            "  * * * \r\n",
            " * * * * \r\n",
            "* * * * * \r\n"
          ]
        }
      ]
    },
    {
      "cell_type": "code",
      "source": [
        "#Multiplication table:\n",
        "number = int(input (\"Enter the number of which the user wants to print the multiplication table: \"))\n",
        "# We are using \"for loop\" to iterate the multiplication 10 times.\n",
        "print (\"The Multiplication Table of: \", number)\n",
        "for i in range(1, 11):\n",
        "  print (number, 'x', i, '=', number * i)"
      ],
      "metadata": {
        "colab": {
          "base_uri": "https://localhost:8080/"
        },
        "id": "wNal-umxeA8c",
        "outputId": "8d74cc04-8598-4317-9365-ee77ed9e719d"
      },
      "execution_count": null,
      "outputs": [
        {
          "output_type": "stream",
          "name": "stdout",
          "text": [
            "Enter the number of which the user wants to print the multiplication table: 29\n",
            "The Multiplication Table of:  29\n",
            "29 x 1 = 29\n",
            "29 x 2 = 58\n",
            "29 x 3 = 87\n",
            "29 x 4 = 116\n",
            "29 x 5 = 145\n",
            "29 x 6 = 174\n",
            "29 x 7 = 203\n",
            "29 x 8 = 232\n",
            "29 x 9 = 261\n",
            "29 x 10 = 290\n"
          ]
        }
      ]
    },
    {
      "cell_type": "markdown",
      "source": [
        "**5. WHILE LOOP**"
      ],
      "metadata": {
        "id": "lHiIYVfnbaxC"
      }
    },
    {
      "cell_type": "code",
      "source": [
        "#Syntax:\n",
        "'''\n",
        "while condition\n",
        "    statement1\n",
        "'''"
      ],
      "metadata": {
        "id": "H1hSnLa3bSSu"
      },
      "execution_count": null,
      "outputs": []
    },
    {
      "cell_type": "code",
      "source": [
        "k = 6\n",
        "while k<10:\n",
        "  print(k)\n",
        "  k +=1"
      ],
      "metadata": {
        "colab": {
          "base_uri": "https://localhost:8080/"
        },
        "id": "cqGXHnzrb1_5",
        "outputId": "673c9fde-32fc-42dc-b765-f15e64875cf4"
      },
      "execution_count": null,
      "outputs": [
        {
          "output_type": "stream",
          "name": "stdout",
          "text": [
            "6\n",
            "7\n",
            "8\n",
            "9\n"
          ]
        }
      ]
    },
    {
      "cell_type": "markdown",
      "source": [
        "**6. ADDITIONAL**"
      ],
      "metadata": {
        "id": "OL3S362TY9wt"
      }
    },
    {
      "cell_type": "code",
      "source": [
        "#You can access a string declared as a list\n",
        "\n",
        "spell = 'PETER DRURY'\n",
        "print(spell[0])\n",
        "print(spell[0:5])"
      ],
      "metadata": {
        "colab": {
          "base_uri": "https://localhost:8080/"
        },
        "id": "o_pHF-8CXWHJ",
        "outputId": "9fa3bf29-aed4-450a-c6ce-70e1432c4ff4"
      },
      "execution_count": null,
      "outputs": [
        {
          "output_type": "stream",
          "name": "stdout",
          "text": [
            "P\n",
            "PETER\n"
          ]
        }
      ]
    },
    {
      "cell_type": "code",
      "source": [
        "for i in spell:\n",
        "  print(i)"
      ],
      "metadata": {
        "colab": {
          "base_uri": "https://localhost:8080/"
        },
        "id": "2mxqB-8DYnEI",
        "outputId": "75f7dff1-e23f-4943-ce77-db65602ec12f"
      },
      "execution_count": null,
      "outputs": [
        {
          "output_type": "stream",
          "name": "stdout",
          "text": [
            "P\n",
            "E\n",
            "T\n",
            "E\n",
            "R\n",
            " \n",
            "D\n",
            "R\n",
            "U\n",
            "R\n",
            "Y\n"
          ]
        }
      ]
    },
    {
      "cell_type": "code",
      "source": [
        "for i, j in enumerate(spell):\n",
        "  print(i, j)"
      ],
      "metadata": {
        "colab": {
          "base_uri": "https://localhost:8080/"
        },
        "id": "ctrhmM81ZtL9",
        "outputId": "0f5978a5-2665-4cc9-ddd0-e54ca0ce721b"
      },
      "execution_count": null,
      "outputs": [
        {
          "output_type": "stream",
          "name": "stdout",
          "text": [
            "0 P\n",
            "1 E\n",
            "2 T\n",
            "3 E\n",
            "4 R\n",
            "5  \n",
            "6 D\n",
            "7 R\n",
            "8 U\n",
            "9 R\n",
            "10 Y\n"
          ]
        }
      ]
    }
  ]
}